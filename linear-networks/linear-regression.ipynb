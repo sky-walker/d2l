{
 "cells": [
  {
   "cell_type": "code",
   "execution_count": 46,
   "metadata": {
    "collapsed": true
   },
   "outputs": [],
   "source": [
    "import numpy as np\n",
    "import torch\n",
    "import time\n",
    "import math\n",
    "from d2l import torch as d2l"
   ]
  },
  {
   "cell_type": "code",
   "execution_count": 47,
   "outputs": [],
   "source": [
    "class Timer:\n",
    "\n",
    "    def __init__(self):\n",
    "        self.times = []\n",
    "        self.start()\n",
    "\n",
    "    def start(self):\n",
    "        self.tik = time.time()\n",
    "\n",
    "    def stop(self):\n",
    "        self.times.append(time.time() - self.tik)\n",
    "        return self.times[-1]\n",
    "\n",
    "    def avg(self):\n",
    "        return sum(self.times) / len(self.times)\n",
    "\n",
    "    def sum(self):\n",
    "        return sum(self.times)\n",
    "\n",
    "    def cumsum(self):\n",
    "        return np.array(self.times).cumsum.tolist()\n"
   ],
   "metadata": {
    "collapsed": false,
    "pycharm": {
     "name": "#%%\n"
    }
   }
  },
  {
   "cell_type": "code",
   "execution_count": 48,
   "outputs": [],
   "source": [
    "n = 10000\n",
    "\n",
    "a = torch.ones(n)\n",
    "b = torch.ones(n)"
   ],
   "metadata": {
    "collapsed": false,
    "pycharm": {
     "name": "#%%\n"
    }
   }
  },
  {
   "cell_type": "code",
   "execution_count": 49,
   "outputs": [
    {
     "data": {
      "text/plain": "'0.04785 sec'"
     },
     "execution_count": 49,
     "metadata": {},
     "output_type": "execute_result"
    }
   ],
   "source": [
    "'''for循环'''\n",
    "c = torch.zeros(n)\n",
    "\n",
    "timer = Timer()\n",
    "\n",
    "for i in range(n):\n",
    "    c[i] = a[i] + b[i]\n",
    "\n",
    "f'{timer.stop():.5f} sec'"
   ],
   "metadata": {
    "collapsed": false,
    "pycharm": {
     "name": "#%%\n"
    }
   }
  },
  {
   "cell_type": "code",
   "execution_count": 50,
   "outputs": [
    {
     "data": {
      "text/plain": "'0.00018 sec'"
     },
     "execution_count": 50,
     "metadata": {},
     "output_type": "execute_result"
    }
   ],
   "source": [
    "'''矢量加速'''\n",
    "timer.start()\n",
    "\n",
    "d = a + b\n",
    "\n",
    "f'{timer.stop():.5f} sec'"
   ],
   "metadata": {
    "collapsed": false,
    "pycharm": {
     "name": "#%%\n"
    }
   }
  },
  {
   "cell_type": "code",
   "execution_count": 51,
   "outputs": [],
   "source": [
    "def normal(x, mu, sigma):\n",
    "    p = 1 / math.sqrt(2 * math.pi * sigma**2)\n",
    "    result = p * np.exp(-0.5 / sigma**2 * (x - mu)**2)\n",
    "    return result"
   ],
   "metadata": {
    "collapsed": false,
    "pycharm": {
     "name": "#%%\n"
    }
   }
  },
  {
   "cell_type": "code",
   "execution_count": 52,
   "outputs": [
    {
     "data": {
      "text/plain": "<Figure size 324x180 with 1 Axes>",
      "image/svg+xml": "<?xml version=\"1.0\" encoding=\"utf-8\" standalone=\"no\"?>\n<!DOCTYPE svg PUBLIC \"-//W3C//DTD SVG 1.1//EN\"\n  \"http://www.w3.org/Graphics/SVG/1.1/DTD/svg11.dtd\">\n<svg height=\"184.15625pt\" version=\"1.1\" viewBox=\"0 0 305.58125 184.15625\" width=\"305.58125pt\" xmlns=\"http://www.w3.org/2000/svg\" xmlns:xlink=\"http://www.w3.org/1999/xlink\">\n <metadata>\n  <rdf:RDF xmlns:cc=\"http://creativecommons.org/ns#\" xmlns:dc=\"http://purl.org/dc/elements/1.1/\" xmlns:rdf=\"http://www.w3.org/1999/02/22-rdf-syntax-ns#\">\n   <cc:Work>\n    <dc:type rdf:resource=\"http://purl.org/dc/dcmitype/StillImage\"/>\n    <dc:date>2021-08-24T10:33:33.080615</dc:date>\n    <dc:format>image/svg+xml</dc:format>\n    <dc:creator>\n     <cc:Agent>\n      <dc:title>Matplotlib v3.4.2, https://matplotlib.org/</dc:title>\n     </cc:Agent>\n    </dc:creator>\n   </cc:Work>\n  </rdf:RDF>\n </metadata>\n <defs>\n  <style type=\"text/css\">*{stroke-linecap:butt;stroke-linejoin:round;}</style>\n </defs>\n <g id=\"figure_1\">\n  <g id=\"patch_1\">\n   <path d=\"M 0 184.15625 \nL 305.58125 184.15625 \nL 305.58125 -0 \nL 0 -0 \nz\n\" style=\"fill:none;\"/>\n  </g>\n  <g id=\"axes_1\">\n   <g id=\"patch_2\">\n    <path d=\"M 43.78125 146.6 \nL 294.88125 146.6 \nL 294.88125 10.7 \nL 43.78125 10.7 \nz\n\" style=\"fill:#ffffff;\"/>\n   </g>\n   <g id=\"matplotlib.axis_1\">\n    <g id=\"xtick_1\">\n     <g id=\"line2d_1\">\n      <path clip-path=\"url(#pa7d3ddefb3)\" d=\"M 71.511736 146.6 \nL 71.511736 10.7 \n\" style=\"fill:none;stroke:#b0b0b0;stroke-linecap:square;stroke-width:0.8;\"/>\n     </g>\n     <g id=\"line2d_2\">\n      <defs>\n       <path d=\"M 0 0 \nL 0 3.5 \n\" id=\"m653024d247\" style=\"stroke:#000000;stroke-width:0.8;\"/>\n      </defs>\n      <g>\n       <use style=\"stroke:#000000;stroke-width:0.8;\" x=\"71.511736\" xlink:href=\"#m653024d247\" y=\"146.6\"/>\n      </g>\n     </g>\n     <g id=\"line2d_3\">\n      <defs>\n       <path d=\"M 0 0 \nL 0 -3.5 \n\" id=\"me483ae955f\" style=\"stroke:#000000;stroke-width:0.8;\"/>\n      </defs>\n      <g>\n       <use style=\"stroke:#000000;stroke-width:0.8;\" x=\"71.511736\" xlink:href=\"#me483ae955f\" y=\"10.7\"/>\n      </g>\n     </g>\n     <g id=\"text_1\">\n      <!-- −6 -->\n      <g transform=\"translate(64.140642 161.198437)scale(0.1 -0.1)\">\n       <defs>\n        <path d=\"M 678 2272 \nL 4684 2272 \nL 4684 1741 \nL 678 1741 \nL 678 2272 \nz\n\" id=\"DejaVuSans-2212\" transform=\"scale(0.015625)\"/>\n        <path d=\"M 2113 2584 \nQ 1688 2584 1439 2293 \nQ 1191 2003 1191 1497 \nQ 1191 994 1439 701 \nQ 1688 409 2113 409 \nQ 2538 409 2786 701 \nQ 3034 994 3034 1497 \nQ 3034 2003 2786 2293 \nQ 2538 2584 2113 2584 \nz\nM 3366 4563 \nL 3366 3988 \nQ 3128 4100 2886 4159 \nQ 2644 4219 2406 4219 \nQ 1781 4219 1451 3797 \nQ 1122 3375 1075 2522 \nQ 1259 2794 1537 2939 \nQ 1816 3084 2150 3084 \nQ 2853 3084 3261 2657 \nQ 3669 2231 3669 1497 \nQ 3669 778 3244 343 \nQ 2819 -91 2113 -91 \nQ 1303 -91 875 529 \nQ 447 1150 447 2328 \nQ 447 3434 972 4092 \nQ 1497 4750 2381 4750 \nQ 2619 4750 2861 4703 \nQ 3103 4656 3366 4563 \nz\n\" id=\"DejaVuSans-36\" transform=\"scale(0.015625)\"/>\n       </defs>\n       <use xlink:href=\"#DejaVuSans-2212\"/>\n       <use x=\"83.789062\" xlink:href=\"#DejaVuSans-36\"/>\n      </g>\n     </g>\n    </g>\n    <g id=\"xtick_2\">\n     <g id=\"line2d_4\">\n      <path clip-path=\"url(#pa7d3ddefb3)\" d=\"M 104.145435 146.6 \nL 104.145435 10.7 \n\" style=\"fill:none;stroke:#b0b0b0;stroke-linecap:square;stroke-width:0.8;\"/>\n     </g>\n     <g id=\"line2d_5\">\n      <g>\n       <use style=\"stroke:#000000;stroke-width:0.8;\" x=\"104.145435\" xlink:href=\"#m653024d247\" y=\"146.6\"/>\n      </g>\n     </g>\n     <g id=\"line2d_6\">\n      <g>\n       <use style=\"stroke:#000000;stroke-width:0.8;\" x=\"104.145435\" xlink:href=\"#me483ae955f\" y=\"10.7\"/>\n      </g>\n     </g>\n     <g id=\"text_2\">\n      <!-- −4 -->\n      <g transform=\"translate(96.774342 161.198437)scale(0.1 -0.1)\">\n       <defs>\n        <path d=\"M 2419 4116 \nL 825 1625 \nL 2419 1625 \nL 2419 4116 \nz\nM 2253 4666 \nL 3047 4666 \nL 3047 1625 \nL 3713 1625 \nL 3713 1100 \nL 3047 1100 \nL 3047 0 \nL 2419 0 \nL 2419 1100 \nL 313 1100 \nL 313 1709 \nL 2253 4666 \nz\n\" id=\"DejaVuSans-34\" transform=\"scale(0.015625)\"/>\n       </defs>\n       <use xlink:href=\"#DejaVuSans-2212\"/>\n       <use x=\"83.789062\" xlink:href=\"#DejaVuSans-34\"/>\n      </g>\n     </g>\n    </g>\n    <g id=\"xtick_3\">\n     <g id=\"line2d_7\">\n      <path clip-path=\"url(#pa7d3ddefb3)\" d=\"M 136.779135 146.6 \nL 136.779135 10.7 \n\" style=\"fill:none;stroke:#b0b0b0;stroke-linecap:square;stroke-width:0.8;\"/>\n     </g>\n     <g id=\"line2d_8\">\n      <g>\n       <use style=\"stroke:#000000;stroke-width:0.8;\" x=\"136.779135\" xlink:href=\"#m653024d247\" y=\"146.6\"/>\n      </g>\n     </g>\n     <g id=\"line2d_9\">\n      <g>\n       <use style=\"stroke:#000000;stroke-width:0.8;\" x=\"136.779135\" xlink:href=\"#me483ae955f\" y=\"10.7\"/>\n      </g>\n     </g>\n     <g id=\"text_3\">\n      <!-- −2 -->\n      <g transform=\"translate(129.408041 161.198437)scale(0.1 -0.1)\">\n       <defs>\n        <path d=\"M 1228 531 \nL 3431 531 \nL 3431 0 \nL 469 0 \nL 469 531 \nQ 828 903 1448 1529 \nQ 2069 2156 2228 2338 \nQ 2531 2678 2651 2914 \nQ 2772 3150 2772 3378 \nQ 2772 3750 2511 3984 \nQ 2250 4219 1831 4219 \nQ 1534 4219 1204 4116 \nQ 875 4013 500 3803 \nL 500 4441 \nQ 881 4594 1212 4672 \nQ 1544 4750 1819 4750 \nQ 2544 4750 2975 4387 \nQ 3406 4025 3406 3419 \nQ 3406 3131 3298 2873 \nQ 3191 2616 2906 2266 \nQ 2828 2175 2409 1742 \nQ 1991 1309 1228 531 \nz\n\" id=\"DejaVuSans-32\" transform=\"scale(0.015625)\"/>\n       </defs>\n       <use xlink:href=\"#DejaVuSans-2212\"/>\n       <use x=\"83.789062\" xlink:href=\"#DejaVuSans-32\"/>\n      </g>\n     </g>\n    </g>\n    <g id=\"xtick_4\">\n     <g id=\"line2d_10\">\n      <path clip-path=\"url(#pa7d3ddefb3)\" d=\"M 169.412834 146.6 \nL 169.412834 10.7 \n\" style=\"fill:none;stroke:#b0b0b0;stroke-linecap:square;stroke-width:0.8;\"/>\n     </g>\n     <g id=\"line2d_11\">\n      <g>\n       <use style=\"stroke:#000000;stroke-width:0.8;\" x=\"169.412834\" xlink:href=\"#m653024d247\" y=\"146.6\"/>\n      </g>\n     </g>\n     <g id=\"line2d_12\">\n      <g>\n       <use style=\"stroke:#000000;stroke-width:0.8;\" x=\"169.412834\" xlink:href=\"#me483ae955f\" y=\"10.7\"/>\n      </g>\n     </g>\n     <g id=\"text_4\">\n      <!-- 0 -->\n      <g transform=\"translate(166.231584 161.198437)scale(0.1 -0.1)\">\n       <defs>\n        <path d=\"M 2034 4250 \nQ 1547 4250 1301 3770 \nQ 1056 3291 1056 2328 \nQ 1056 1369 1301 889 \nQ 1547 409 2034 409 \nQ 2525 409 2770 889 \nQ 3016 1369 3016 2328 \nQ 3016 3291 2770 3770 \nQ 2525 4250 2034 4250 \nz\nM 2034 4750 \nQ 2819 4750 3233 4129 \nQ 3647 3509 3647 2328 \nQ 3647 1150 3233 529 \nQ 2819 -91 2034 -91 \nQ 1250 -91 836 529 \nQ 422 1150 422 2328 \nQ 422 3509 836 4129 \nQ 1250 4750 2034 4750 \nz\n\" id=\"DejaVuSans-30\" transform=\"scale(0.015625)\"/>\n       </defs>\n       <use xlink:href=\"#DejaVuSans-30\"/>\n      </g>\n     </g>\n    </g>\n    <g id=\"xtick_5\">\n     <g id=\"line2d_13\">\n      <path clip-path=\"url(#pa7d3ddefb3)\" d=\"M 202.046534 146.6 \nL 202.046534 10.7 \n\" style=\"fill:none;stroke:#b0b0b0;stroke-linecap:square;stroke-width:0.8;\"/>\n     </g>\n     <g id=\"line2d_14\">\n      <g>\n       <use style=\"stroke:#000000;stroke-width:0.8;\" x=\"202.046534\" xlink:href=\"#m653024d247\" y=\"146.6\"/>\n      </g>\n     </g>\n     <g id=\"line2d_15\">\n      <g>\n       <use style=\"stroke:#000000;stroke-width:0.8;\" x=\"202.046534\" xlink:href=\"#me483ae955f\" y=\"10.7\"/>\n      </g>\n     </g>\n     <g id=\"text_5\">\n      <!-- 2 -->\n      <g transform=\"translate(198.865284 161.198437)scale(0.1 -0.1)\">\n       <use xlink:href=\"#DejaVuSans-32\"/>\n      </g>\n     </g>\n    </g>\n    <g id=\"xtick_6\">\n     <g id=\"line2d_16\">\n      <path clip-path=\"url(#pa7d3ddefb3)\" d=\"M 234.680233 146.6 \nL 234.680233 10.7 \n\" style=\"fill:none;stroke:#b0b0b0;stroke-linecap:square;stroke-width:0.8;\"/>\n     </g>\n     <g id=\"line2d_17\">\n      <g>\n       <use style=\"stroke:#000000;stroke-width:0.8;\" x=\"234.680233\" xlink:href=\"#m653024d247\" y=\"146.6\"/>\n      </g>\n     </g>\n     <g id=\"line2d_18\">\n      <g>\n       <use style=\"stroke:#000000;stroke-width:0.8;\" x=\"234.680233\" xlink:href=\"#me483ae955f\" y=\"10.7\"/>\n      </g>\n     </g>\n     <g id=\"text_6\">\n      <!-- 4 -->\n      <g transform=\"translate(231.498983 161.198437)scale(0.1 -0.1)\">\n       <use xlink:href=\"#DejaVuSans-34\"/>\n      </g>\n     </g>\n    </g>\n    <g id=\"xtick_7\">\n     <g id=\"line2d_19\">\n      <path clip-path=\"url(#pa7d3ddefb3)\" d=\"M 267.313932 146.6 \nL 267.313932 10.7 \n\" style=\"fill:none;stroke:#b0b0b0;stroke-linecap:square;stroke-width:0.8;\"/>\n     </g>\n     <g id=\"line2d_20\">\n      <g>\n       <use style=\"stroke:#000000;stroke-width:0.8;\" x=\"267.313932\" xlink:href=\"#m653024d247\" y=\"146.6\"/>\n      </g>\n     </g>\n     <g id=\"line2d_21\">\n      <g>\n       <use style=\"stroke:#000000;stroke-width:0.8;\" x=\"267.313932\" xlink:href=\"#me483ae955f\" y=\"10.7\"/>\n      </g>\n     </g>\n     <g id=\"text_7\">\n      <!-- 6 -->\n      <g transform=\"translate(264.132682 161.198437)scale(0.1 -0.1)\">\n       <use xlink:href=\"#DejaVuSans-36\"/>\n      </g>\n     </g>\n    </g>\n    <g id=\"text_8\">\n     <!-- x -->\n     <g transform=\"translate(166.371875 174.876562)scale(0.1 -0.1)\">\n      <defs>\n       <path d=\"M 3513 3500 \nL 2247 1797 \nL 3578 0 \nL 2900 0 \nL 1881 1375 \nL 863 0 \nL 184 0 \nL 1544 1831 \nL 300 3500 \nL 978 3500 \nL 1906 2253 \nL 2834 3500 \nL 3513 3500 \nz\n\" id=\"DejaVuSans-78\" transform=\"scale(0.015625)\"/>\n      </defs>\n      <use xlink:href=\"#DejaVuSans-78\"/>\n     </g>\n    </g>\n   </g>\n   <g id=\"matplotlib.axis_2\">\n    <g id=\"ytick_1\">\n     <g id=\"line2d_22\">\n      <path clip-path=\"url(#pa7d3ddefb3)\" d=\"M 43.78125 140.422727 \nL 294.88125 140.422727 \n\" style=\"fill:none;stroke:#b0b0b0;stroke-linecap:square;stroke-width:0.8;\"/>\n     </g>\n     <g id=\"line2d_23\">\n      <defs>\n       <path d=\"M 0 0 \nL -3.5 0 \n\" id=\"mbb5b5a0ba0\" style=\"stroke:#000000;stroke-width:0.8;\"/>\n      </defs>\n      <g>\n       <use style=\"stroke:#000000;stroke-width:0.8;\" x=\"43.78125\" xlink:href=\"#mbb5b5a0ba0\" y=\"140.422727\"/>\n      </g>\n     </g>\n     <g id=\"line2d_24\">\n      <defs>\n       <path d=\"M 0 0 \nL 3.5 0 \n\" id=\"m4051bebd55\" style=\"stroke:#000000;stroke-width:0.8;\"/>\n      </defs>\n      <g>\n       <use style=\"stroke:#000000;stroke-width:0.8;\" x=\"294.88125\" xlink:href=\"#m4051bebd55\" y=\"140.422727\"/>\n      </g>\n     </g>\n     <g id=\"text_9\">\n      <!-- 0.0 -->\n      <g transform=\"translate(20.878125 144.221946)scale(0.1 -0.1)\">\n       <defs>\n        <path d=\"M 684 794 \nL 1344 794 \nL 1344 0 \nL 684 0 \nL 684 794 \nz\n\" id=\"DejaVuSans-2e\" transform=\"scale(0.015625)\"/>\n       </defs>\n       <use xlink:href=\"#DejaVuSans-30\"/>\n       <use x=\"63.623047\" xlink:href=\"#DejaVuSans-2e\"/>\n       <use x=\"95.410156\" xlink:href=\"#DejaVuSans-30\"/>\n      </g>\n     </g>\n    </g>\n    <g id=\"ytick_2\">\n     <g id=\"line2d_25\">\n      <path clip-path=\"url(#pa7d3ddefb3)\" d=\"M 43.78125 109.454474 \nL 294.88125 109.454474 \n\" style=\"fill:none;stroke:#b0b0b0;stroke-linecap:square;stroke-width:0.8;\"/>\n     </g>\n     <g id=\"line2d_26\">\n      <g>\n       <use style=\"stroke:#000000;stroke-width:0.8;\" x=\"43.78125\" xlink:href=\"#mbb5b5a0ba0\" y=\"109.454474\"/>\n      </g>\n     </g>\n     <g id=\"line2d_27\">\n      <g>\n       <use style=\"stroke:#000000;stroke-width:0.8;\" x=\"294.88125\" xlink:href=\"#m4051bebd55\" y=\"109.454474\"/>\n      </g>\n     </g>\n     <g id=\"text_10\">\n      <!-- 0.1 -->\n      <g transform=\"translate(20.878125 113.253693)scale(0.1 -0.1)\">\n       <defs>\n        <path d=\"M 794 531 \nL 1825 531 \nL 1825 4091 \nL 703 3866 \nL 703 4441 \nL 1819 4666 \nL 2450 4666 \nL 2450 531 \nL 3481 531 \nL 3481 0 \nL 794 0 \nL 794 531 \nz\n\" id=\"DejaVuSans-31\" transform=\"scale(0.015625)\"/>\n       </defs>\n       <use xlink:href=\"#DejaVuSans-30\"/>\n       <use x=\"63.623047\" xlink:href=\"#DejaVuSans-2e\"/>\n       <use x=\"95.410156\" xlink:href=\"#DejaVuSans-31\"/>\n      </g>\n     </g>\n    </g>\n    <g id=\"ytick_3\">\n     <g id=\"line2d_28\">\n      <path clip-path=\"url(#pa7d3ddefb3)\" d=\"M 43.78125 78.486221 \nL 294.88125 78.486221 \n\" style=\"fill:none;stroke:#b0b0b0;stroke-linecap:square;stroke-width:0.8;\"/>\n     </g>\n     <g id=\"line2d_29\">\n      <g>\n       <use style=\"stroke:#000000;stroke-width:0.8;\" x=\"43.78125\" xlink:href=\"#mbb5b5a0ba0\" y=\"78.486221\"/>\n      </g>\n     </g>\n     <g id=\"line2d_30\">\n      <g>\n       <use style=\"stroke:#000000;stroke-width:0.8;\" x=\"294.88125\" xlink:href=\"#m4051bebd55\" y=\"78.486221\"/>\n      </g>\n     </g>\n     <g id=\"text_11\">\n      <!-- 0.2 -->\n      <g transform=\"translate(20.878125 82.28544)scale(0.1 -0.1)\">\n       <use xlink:href=\"#DejaVuSans-30\"/>\n       <use x=\"63.623047\" xlink:href=\"#DejaVuSans-2e\"/>\n       <use x=\"95.410156\" xlink:href=\"#DejaVuSans-32\"/>\n      </g>\n     </g>\n    </g>\n    <g id=\"ytick_4\">\n     <g id=\"line2d_31\">\n      <path clip-path=\"url(#pa7d3ddefb3)\" d=\"M 43.78125 47.517968 \nL 294.88125 47.517968 \n\" style=\"fill:none;stroke:#b0b0b0;stroke-linecap:square;stroke-width:0.8;\"/>\n     </g>\n     <g id=\"line2d_32\">\n      <g>\n       <use style=\"stroke:#000000;stroke-width:0.8;\" x=\"43.78125\" xlink:href=\"#mbb5b5a0ba0\" y=\"47.517968\"/>\n      </g>\n     </g>\n     <g id=\"line2d_33\">\n      <g>\n       <use style=\"stroke:#000000;stroke-width:0.8;\" x=\"294.88125\" xlink:href=\"#m4051bebd55\" y=\"47.517968\"/>\n      </g>\n     </g>\n     <g id=\"text_12\">\n      <!-- 0.3 -->\n      <g transform=\"translate(20.878125 51.317187)scale(0.1 -0.1)\">\n       <defs>\n        <path d=\"M 2597 2516 \nQ 3050 2419 3304 2112 \nQ 3559 1806 3559 1356 \nQ 3559 666 3084 287 \nQ 2609 -91 1734 -91 \nQ 1441 -91 1130 -33 \nQ 819 25 488 141 \nL 488 750 \nQ 750 597 1062 519 \nQ 1375 441 1716 441 \nQ 2309 441 2620 675 \nQ 2931 909 2931 1356 \nQ 2931 1769 2642 2001 \nQ 2353 2234 1838 2234 \nL 1294 2234 \nL 1294 2753 \nL 1863 2753 \nQ 2328 2753 2575 2939 \nQ 2822 3125 2822 3475 \nQ 2822 3834 2567 4026 \nQ 2313 4219 1838 4219 \nQ 1578 4219 1281 4162 \nQ 984 4106 628 3988 \nL 628 4550 \nQ 988 4650 1302 4700 \nQ 1616 4750 1894 4750 \nQ 2613 4750 3031 4423 \nQ 3450 4097 3450 3541 \nQ 3450 3153 3228 2886 \nQ 3006 2619 2597 2516 \nz\n\" id=\"DejaVuSans-33\" transform=\"scale(0.015625)\"/>\n       </defs>\n       <use xlink:href=\"#DejaVuSans-30\"/>\n       <use x=\"63.623047\" xlink:href=\"#DejaVuSans-2e\"/>\n       <use x=\"95.410156\" xlink:href=\"#DejaVuSans-33\"/>\n      </g>\n     </g>\n    </g>\n    <g id=\"ytick_5\">\n     <g id=\"line2d_34\">\n      <path clip-path=\"url(#pa7d3ddefb3)\" d=\"M 43.78125 16.549715 \nL 294.88125 16.549715 \n\" style=\"fill:none;stroke:#b0b0b0;stroke-linecap:square;stroke-width:0.8;\"/>\n     </g>\n     <g id=\"line2d_35\">\n      <g>\n       <use style=\"stroke:#000000;stroke-width:0.8;\" x=\"43.78125\" xlink:href=\"#mbb5b5a0ba0\" y=\"16.549715\"/>\n      </g>\n     </g>\n     <g id=\"line2d_36\">\n      <g>\n       <use style=\"stroke:#000000;stroke-width:0.8;\" x=\"294.88125\" xlink:href=\"#m4051bebd55\" y=\"16.549715\"/>\n      </g>\n     </g>\n     <g id=\"text_13\">\n      <!-- 0.4 -->\n      <g transform=\"translate(20.878125 20.348934)scale(0.1 -0.1)\">\n       <use xlink:href=\"#DejaVuSans-30\"/>\n       <use x=\"63.623047\" xlink:href=\"#DejaVuSans-2e\"/>\n       <use x=\"95.410156\" xlink:href=\"#DejaVuSans-34\"/>\n      </g>\n     </g>\n    </g>\n    <g id=\"text_14\">\n     <!-- p(x) -->\n     <g transform=\"translate(14.798438 88.685156)rotate(-90)scale(0.1 -0.1)\">\n      <defs>\n       <path d=\"M 1159 525 \nL 1159 -1331 \nL 581 -1331 \nL 581 3500 \nL 1159 3500 \nL 1159 2969 \nQ 1341 3281 1617 3432 \nQ 1894 3584 2278 3584 \nQ 2916 3584 3314 3078 \nQ 3713 2572 3713 1747 \nQ 3713 922 3314 415 \nQ 2916 -91 2278 -91 \nQ 1894 -91 1617 61 \nQ 1341 213 1159 525 \nz\nM 3116 1747 \nQ 3116 2381 2855 2742 \nQ 2594 3103 2138 3103 \nQ 1681 3103 1420 2742 \nQ 1159 2381 1159 1747 \nQ 1159 1113 1420 752 \nQ 1681 391 2138 391 \nQ 2594 391 2855 752 \nQ 3116 1113 3116 1747 \nz\n\" id=\"DejaVuSans-70\" transform=\"scale(0.015625)\"/>\n       <path d=\"M 1984 4856 \nQ 1566 4138 1362 3434 \nQ 1159 2731 1159 2009 \nQ 1159 1288 1364 580 \nQ 1569 -128 1984 -844 \nL 1484 -844 \nQ 1016 -109 783 600 \nQ 550 1309 550 2009 \nQ 550 2706 781 3412 \nQ 1013 4119 1484 4856 \nL 1984 4856 \nz\n\" id=\"DejaVuSans-28\" transform=\"scale(0.015625)\"/>\n       <path d=\"M 513 4856 \nL 1013 4856 \nQ 1481 4119 1714 3412 \nQ 1947 2706 1947 2009 \nQ 1947 1309 1714 600 \nQ 1481 -109 1013 -844 \nL 513 -844 \nQ 928 -128 1133 580 \nQ 1338 1288 1338 2009 \nQ 1338 2731 1133 3434 \nQ 928 4138 513 4856 \nz\n\" id=\"DejaVuSans-29\" transform=\"scale(0.015625)\"/>\n      </defs>\n      <use xlink:href=\"#DejaVuSans-70\"/>\n      <use x=\"63.476562\" xlink:href=\"#DejaVuSans-28\"/>\n      <use x=\"102.490234\" xlink:href=\"#DejaVuSans-78\"/>\n      <use x=\"161.669922\" xlink:href=\"#DejaVuSans-29\"/>\n     </g>\n    </g>\n   </g>\n   <g id=\"line2d_37\">\n    <path clip-path=\"url(#pa7d3ddefb3)\" d=\"M 55.194886 140.422727 \nL 108.224648 140.313535 \nL 113.609208 140.066288 \nL 117.198915 139.684417 \nL 119.97278 139.168952 \nL 122.257139 138.525186 \nL 124.215161 137.757847 \nL 126.010014 136.830368 \nL 127.804868 135.638334 \nL 129.436552 134.279445 \nL 131.068237 132.613085 \nL 132.699922 130.593512 \nL 134.331607 128.17477 \nL 135.963292 125.312692 \nL 137.594977 121.967288 \nL 139.226662 118.105495 \nL 141.021516 113.233818 \nL 142.816369 107.697078 \nL 144.774391 100.912516 \nL 146.895582 92.747632 \nL 149.506278 81.724523 \nL 153.259153 64.739305 \nL 157.501534 45.775258 \nL 159.785893 36.613056 \nL 161.580746 30.320515 \nL 163.049263 25.924523 \nL 164.354611 22.673268 \nL 165.49679 20.384633 \nL 166.475801 18.862585 \nL 167.454812 17.763605 \nL 168.270655 17.179589 \nL 169.086497 16.901979 \nL 169.739171 16.901979 \nL 170.391845 17.099455 \nL 171.207688 17.622466 \nL 172.02353 18.448577 \nL 173.002541 19.831186 \nL 173.981552 21.62656 \nL 175.123732 24.217347 \nL 176.42908 27.786979 \nL 177.897596 32.500684 \nL 179.69245 39.115359 \nL 181.81364 47.867165 \nL 184.913841 61.745076 \nL 190.46157 86.661144 \nL 192.909098 96.615047 \nL 195.030288 104.399673 \nL 196.98831 110.799489 \nL 198.783164 115.973243 \nL 200.578017 120.486089 \nL 202.209702 124.034567 \nL 203.841387 127.0855 \nL 205.473072 129.676453 \nL 207.104757 131.85023 \nL 208.736442 133.652334 \nL 210.368127 135.128806 \nL 211.999812 136.324481 \nL 213.794665 137.365803 \nL 215.752687 138.23293 \nL 217.873878 138.921686 \nL 220.321405 139.47206 \nL 223.258438 139.889278 \nL 227.011314 140.17952 \nL 232.395874 140.350878 \nL 243.001826 140.417995 \nL 283.467614 140.422727 \nL 283.467614 140.422727 \n\" style=\"fill:none;stroke:#1f77b4;stroke-linecap:square;stroke-width:1.5;\"/>\n   </g>\n   <g id=\"line2d_38\">\n    <path clip-path=\"url(#pa7d3ddefb3)\" d=\"M 55.194886 140.2876 \nL 65.800839 140.022951 \nL 73.143421 139.626434 \nL 79.017487 139.090287 \nL 83.912542 138.426494 \nL 88.318091 137.605229 \nL 92.234135 136.653577 \nL 95.823842 135.56316 \nL 99.250381 134.298749 \nL 102.51375 132.867709 \nL 105.77712 131.195008 \nL 109.04049 129.264111 \nL 112.30386 127.063438 \nL 115.56723 124.587897 \nL 118.993769 121.696043 \nL 122.583476 118.360886 \nL 126.49952 114.403144 \nL 131.068237 109.448686 \nL 138.247651 101.270807 \nL 144.611223 94.144946 \nL 148.527267 90.089675 \nL 151.790637 87.030672 \nL 154.564501 84.724436 \nL 157.175197 82.844214 \nL 159.459556 81.457408 \nL 161.743915 80.332365 \nL 163.865105 79.536198 \nL 165.823127 79.022597 \nL 167.781149 78.727168 \nL 169.739171 78.653089 \nL 171.697193 78.801158 \nL 173.655215 79.16978 \nL 175.613237 79.754995 \nL 177.734428 80.626088 \nL 179.855618 81.733161 \nL 182.139977 83.173625 \nL 184.587504 84.98006 \nL 187.361369 87.320867 \nL 190.46157 90.251111 \nL 194.051277 93.969337 \nL 198.783164 99.221751 \nL 211.673475 113.715093 \nL 215.752687 117.883393 \nL 219.505563 121.40542 \nL 222.932101 124.32526 \nL 226.195471 126.828273 \nL 229.458841 129.056324 \nL 232.722211 131.013772 \nL 235.985581 132.711619 \nL 239.248951 134.165971 \nL 242.675489 135.45258 \nL 246.265196 136.563568 \nL 250.18124 137.534481 \nL 254.423621 138.346714 \nL 259.155508 139.014669 \nL 264.540068 139.540363 \nL 270.903639 139.932354 \nL 279.225233 140.207949 \nL 283.467614 140.285216 \nL 283.467614 140.285216 \n\" style=\"fill:none;stroke:#bf00bf;stroke-dasharray:5.55,2.4;stroke-dashoffset:0;stroke-width:1.5;\"/>\n   </g>\n   <g id=\"line2d_39\">\n    <path clip-path=\"url(#pa7d3ddefb3)\" d=\"M 55.194886 140.422727 \nL 157.175197 140.313535 \nL 162.559757 140.066288 \nL 166.149464 139.684417 \nL 168.923329 139.168952 \nL 171.207688 138.525186 \nL 173.16571 137.757847 \nL 174.960563 136.830368 \nL 176.755417 135.638334 \nL 178.387102 134.279445 \nL 180.018787 132.613085 \nL 181.650472 130.593512 \nL 183.282156 128.17477 \nL 184.913841 125.312692 \nL 186.545526 121.967288 \nL 188.177211 118.105495 \nL 189.972065 113.233818 \nL 191.766918 107.697078 \nL 193.72494 100.912516 \nL 195.846131 92.747632 \nL 198.456827 81.724523 \nL 202.209702 64.739305 \nL 206.452083 45.775258 \nL 208.736442 36.613056 \nL 210.531295 30.320515 \nL 211.999812 25.924523 \nL 213.30516 22.673268 \nL 214.447339 20.384633 \nL 215.42635 18.862585 \nL 216.405361 17.763605 \nL 217.221204 17.179589 \nL 218.037046 16.901979 \nL 218.68972 16.901979 \nL 219.342394 17.099455 \nL 220.158237 17.622466 \nL 220.974079 18.448577 \nL 221.95309 19.831186 \nL 222.932101 21.62656 \nL 224.074281 24.217347 \nL 225.379629 27.786979 \nL 226.848145 32.500684 \nL 228.642999 39.115359 \nL 230.764189 47.867165 \nL 233.864391 61.745076 \nL 239.412119 86.661144 \nL 241.859647 96.615047 \nL 243.980837 104.399673 \nL 245.938859 110.799489 \nL 247.733713 115.973243 \nL 249.528566 120.486089 \nL 251.160251 124.034567 \nL 252.791936 127.0855 \nL 254.423621 129.676453 \nL 256.055306 131.85023 \nL 257.686991 133.652334 \nL 259.318676 135.128806 \nL 260.950361 136.324481 \nL 262.745215 137.365803 \nL 264.703236 138.23293 \nL 266.824427 138.921686 \nL 269.271954 139.47206 \nL 272.208987 139.889278 \nL 275.961863 140.17952 \nL 281.346423 140.350878 \nL 283.467614 140.379593 \nL 283.467614 140.379593 \n\" style=\"fill:none;stroke:#008000;stroke-dasharray:9.6,2.4,1.5,2.4;stroke-dashoffset:0;stroke-width:1.5;\"/>\n   </g>\n   <g id=\"patch_3\">\n    <path d=\"M 43.78125 146.6 \nL 43.78125 10.7 \n\" style=\"fill:none;stroke:#000000;stroke-linecap:square;stroke-linejoin:miter;stroke-width:0.8;\"/>\n   </g>\n   <g id=\"patch_4\">\n    <path d=\"M 294.88125 146.6 \nL 294.88125 10.7 \n\" style=\"fill:none;stroke:#000000;stroke-linecap:square;stroke-linejoin:miter;stroke-width:0.8;\"/>\n   </g>\n   <g id=\"patch_5\">\n    <path d=\"M 43.78125 146.6 \nL 294.88125 146.6 \n\" style=\"fill:none;stroke:#000000;stroke-linecap:square;stroke-linejoin:miter;stroke-width:0.8;\"/>\n   </g>\n   <g id=\"patch_6\">\n    <path d=\"M 43.78125 10.7 \nL 294.88125 10.7 \n\" style=\"fill:none;stroke:#000000;stroke-linecap:square;stroke-linejoin:miter;stroke-width:0.8;\"/>\n   </g>\n   <g id=\"legend_1\">\n    <g id=\"patch_7\">\n     <path d=\"M 50.78125 62.734375 \nL 148.878125 62.734375 \nQ 150.878125 62.734375 150.878125 60.734375 \nL 150.878125 17.7 \nQ 150.878125 15.7 148.878125 15.7 \nL 50.78125 15.7 \nQ 48.78125 15.7 48.78125 17.7 \nL 48.78125 60.734375 \nQ 48.78125 62.734375 50.78125 62.734375 \nz\n\" style=\"fill:#ffffff;opacity:0.8;stroke:#cccccc;stroke-linejoin:miter;\"/>\n    </g>\n    <g id=\"line2d_40\">\n     <path d=\"M 52.78125 23.798437 \nL 72.78125 23.798437 \n\" style=\"fill:none;stroke:#1f77b4;stroke-linecap:square;stroke-width:1.5;\"/>\n    </g>\n    <g id=\"line2d_41\"/>\n    <g id=\"text_15\">\n     <!-- mean 0, std1 -->\n     <g transform=\"translate(80.78125 27.298437)scale(0.1 -0.1)\">\n      <defs>\n       <path d=\"M 3328 2828 \nQ 3544 3216 3844 3400 \nQ 4144 3584 4550 3584 \nQ 5097 3584 5394 3201 \nQ 5691 2819 5691 2113 \nL 5691 0 \nL 5113 0 \nL 5113 2094 \nQ 5113 2597 4934 2840 \nQ 4756 3084 4391 3084 \nQ 3944 3084 3684 2787 \nQ 3425 2491 3425 1978 \nL 3425 0 \nL 2847 0 \nL 2847 2094 \nQ 2847 2600 2669 2842 \nQ 2491 3084 2119 3084 \nQ 1678 3084 1418 2786 \nQ 1159 2488 1159 1978 \nL 1159 0 \nL 581 0 \nL 581 3500 \nL 1159 3500 \nL 1159 2956 \nQ 1356 3278 1631 3431 \nQ 1906 3584 2284 3584 \nQ 2666 3584 2933 3390 \nQ 3200 3197 3328 2828 \nz\n\" id=\"DejaVuSans-6d\" transform=\"scale(0.015625)\"/>\n       <path d=\"M 3597 1894 \nL 3597 1613 \nL 953 1613 \nQ 991 1019 1311 708 \nQ 1631 397 2203 397 \nQ 2534 397 2845 478 \nQ 3156 559 3463 722 \nL 3463 178 \nQ 3153 47 2828 -22 \nQ 2503 -91 2169 -91 \nQ 1331 -91 842 396 \nQ 353 884 353 1716 \nQ 353 2575 817 3079 \nQ 1281 3584 2069 3584 \nQ 2775 3584 3186 3129 \nQ 3597 2675 3597 1894 \nz\nM 3022 2063 \nQ 3016 2534 2758 2815 \nQ 2500 3097 2075 3097 \nQ 1594 3097 1305 2825 \nQ 1016 2553 972 2059 \nL 3022 2063 \nz\n\" id=\"DejaVuSans-65\" transform=\"scale(0.015625)\"/>\n       <path d=\"M 2194 1759 \nQ 1497 1759 1228 1600 \nQ 959 1441 959 1056 \nQ 959 750 1161 570 \nQ 1363 391 1709 391 \nQ 2188 391 2477 730 \nQ 2766 1069 2766 1631 \nL 2766 1759 \nL 2194 1759 \nz\nM 3341 1997 \nL 3341 0 \nL 2766 0 \nL 2766 531 \nQ 2569 213 2275 61 \nQ 1981 -91 1556 -91 \nQ 1019 -91 701 211 \nQ 384 513 384 1019 \nQ 384 1609 779 1909 \nQ 1175 2209 1959 2209 \nL 2766 2209 \nL 2766 2266 \nQ 2766 2663 2505 2880 \nQ 2244 3097 1772 3097 \nQ 1472 3097 1187 3025 \nQ 903 2953 641 2809 \nL 641 3341 \nQ 956 3463 1253 3523 \nQ 1550 3584 1831 3584 \nQ 2591 3584 2966 3190 \nQ 3341 2797 3341 1997 \nz\n\" id=\"DejaVuSans-61\" transform=\"scale(0.015625)\"/>\n       <path d=\"M 3513 2113 \nL 3513 0 \nL 2938 0 \nL 2938 2094 \nQ 2938 2591 2744 2837 \nQ 2550 3084 2163 3084 \nQ 1697 3084 1428 2787 \nQ 1159 2491 1159 1978 \nL 1159 0 \nL 581 0 \nL 581 3500 \nL 1159 3500 \nL 1159 2956 \nQ 1366 3272 1645 3428 \nQ 1925 3584 2291 3584 \nQ 2894 3584 3203 3211 \nQ 3513 2838 3513 2113 \nz\n\" id=\"DejaVuSans-6e\" transform=\"scale(0.015625)\"/>\n       <path id=\"DejaVuSans-20\" transform=\"scale(0.015625)\"/>\n       <path d=\"M 750 794 \nL 1409 794 \nL 1409 256 \nL 897 -744 \nL 494 -744 \nL 750 256 \nL 750 794 \nz\n\" id=\"DejaVuSans-2c\" transform=\"scale(0.015625)\"/>\n       <path d=\"M 2834 3397 \nL 2834 2853 \nQ 2591 2978 2328 3040 \nQ 2066 3103 1784 3103 \nQ 1356 3103 1142 2972 \nQ 928 2841 928 2578 \nQ 928 2378 1081 2264 \nQ 1234 2150 1697 2047 \nL 1894 2003 \nQ 2506 1872 2764 1633 \nQ 3022 1394 3022 966 \nQ 3022 478 2636 193 \nQ 2250 -91 1575 -91 \nQ 1294 -91 989 -36 \nQ 684 19 347 128 \nL 347 722 \nQ 666 556 975 473 \nQ 1284 391 1588 391 \nQ 1994 391 2212 530 \nQ 2431 669 2431 922 \nQ 2431 1156 2273 1281 \nQ 2116 1406 1581 1522 \nL 1381 1569 \nQ 847 1681 609 1914 \nQ 372 2147 372 2553 \nQ 372 3047 722 3315 \nQ 1072 3584 1716 3584 \nQ 2034 3584 2315 3537 \nQ 2597 3491 2834 3397 \nz\n\" id=\"DejaVuSans-73\" transform=\"scale(0.015625)\"/>\n       <path d=\"M 1172 4494 \nL 1172 3500 \nL 2356 3500 \nL 2356 3053 \nL 1172 3053 \nL 1172 1153 \nQ 1172 725 1289 603 \nQ 1406 481 1766 481 \nL 2356 481 \nL 2356 0 \nL 1766 0 \nQ 1100 0 847 248 \nQ 594 497 594 1153 \nL 594 3053 \nL 172 3053 \nL 172 3500 \nL 594 3500 \nL 594 4494 \nL 1172 4494 \nz\n\" id=\"DejaVuSans-74\" transform=\"scale(0.015625)\"/>\n       <path d=\"M 2906 2969 \nL 2906 4863 \nL 3481 4863 \nL 3481 0 \nL 2906 0 \nL 2906 525 \nQ 2725 213 2448 61 \nQ 2172 -91 1784 -91 \nQ 1150 -91 751 415 \nQ 353 922 353 1747 \nQ 353 2572 751 3078 \nQ 1150 3584 1784 3584 \nQ 2172 3584 2448 3432 \nQ 2725 3281 2906 2969 \nz\nM 947 1747 \nQ 947 1113 1208 752 \nQ 1469 391 1925 391 \nQ 2381 391 2643 752 \nQ 2906 1113 2906 1747 \nQ 2906 2381 2643 2742 \nQ 2381 3103 1925 3103 \nQ 1469 3103 1208 2742 \nQ 947 2381 947 1747 \nz\n\" id=\"DejaVuSans-64\" transform=\"scale(0.015625)\"/>\n      </defs>\n      <use xlink:href=\"#DejaVuSans-6d\"/>\n      <use x=\"97.412109\" xlink:href=\"#DejaVuSans-65\"/>\n      <use x=\"158.935547\" xlink:href=\"#DejaVuSans-61\"/>\n      <use x=\"220.214844\" xlink:href=\"#DejaVuSans-6e\"/>\n      <use x=\"283.59375\" xlink:href=\"#DejaVuSans-20\"/>\n      <use x=\"315.380859\" xlink:href=\"#DejaVuSans-30\"/>\n      <use x=\"379.003906\" xlink:href=\"#DejaVuSans-2c\"/>\n      <use x=\"410.791016\" xlink:href=\"#DejaVuSans-20\"/>\n      <use x=\"442.578125\" xlink:href=\"#DejaVuSans-73\"/>\n      <use x=\"494.677734\" xlink:href=\"#DejaVuSans-74\"/>\n      <use x=\"533.886719\" xlink:href=\"#DejaVuSans-64\"/>\n      <use x=\"597.363281\" xlink:href=\"#DejaVuSans-31\"/>\n     </g>\n    </g>\n    <g id=\"line2d_42\">\n     <path d=\"M 52.78125 38.476562 \nL 72.78125 38.476562 \n\" style=\"fill:none;stroke:#bf00bf;stroke-dasharray:5.55,2.4;stroke-dashoffset:0;stroke-width:1.5;\"/>\n    </g>\n    <g id=\"line2d_43\"/>\n    <g id=\"text_16\">\n     <!-- mean 0, std2 -->\n     <g transform=\"translate(80.78125 41.976562)scale(0.1 -0.1)\">\n      <use xlink:href=\"#DejaVuSans-6d\"/>\n      <use x=\"97.412109\" xlink:href=\"#DejaVuSans-65\"/>\n      <use x=\"158.935547\" xlink:href=\"#DejaVuSans-61\"/>\n      <use x=\"220.214844\" xlink:href=\"#DejaVuSans-6e\"/>\n      <use x=\"283.59375\" xlink:href=\"#DejaVuSans-20\"/>\n      <use x=\"315.380859\" xlink:href=\"#DejaVuSans-30\"/>\n      <use x=\"379.003906\" xlink:href=\"#DejaVuSans-2c\"/>\n      <use x=\"410.791016\" xlink:href=\"#DejaVuSans-20\"/>\n      <use x=\"442.578125\" xlink:href=\"#DejaVuSans-73\"/>\n      <use x=\"494.677734\" xlink:href=\"#DejaVuSans-74\"/>\n      <use x=\"533.886719\" xlink:href=\"#DejaVuSans-64\"/>\n      <use x=\"597.363281\" xlink:href=\"#DejaVuSans-32\"/>\n     </g>\n    </g>\n    <g id=\"line2d_44\">\n     <path d=\"M 52.78125 53.154687 \nL 72.78125 53.154687 \n\" style=\"fill:none;stroke:#008000;stroke-dasharray:9.6,2.4,1.5,2.4;stroke-dashoffset:0;stroke-width:1.5;\"/>\n    </g>\n    <g id=\"line2d_45\"/>\n    <g id=\"text_17\">\n     <!-- mean 3, std1 -->\n     <g transform=\"translate(80.78125 56.654687)scale(0.1 -0.1)\">\n      <use xlink:href=\"#DejaVuSans-6d\"/>\n      <use x=\"97.412109\" xlink:href=\"#DejaVuSans-65\"/>\n      <use x=\"158.935547\" xlink:href=\"#DejaVuSans-61\"/>\n      <use x=\"220.214844\" xlink:href=\"#DejaVuSans-6e\"/>\n      <use x=\"283.59375\" xlink:href=\"#DejaVuSans-20\"/>\n      <use x=\"315.380859\" xlink:href=\"#DejaVuSans-33\"/>\n      <use x=\"379.003906\" xlink:href=\"#DejaVuSans-2c\"/>\n      <use x=\"410.791016\" xlink:href=\"#DejaVuSans-20\"/>\n      <use x=\"442.578125\" xlink:href=\"#DejaVuSans-73\"/>\n      <use x=\"494.677734\" xlink:href=\"#DejaVuSans-74\"/>\n      <use x=\"533.886719\" xlink:href=\"#DejaVuSans-64\"/>\n      <use x=\"597.363281\" xlink:href=\"#DejaVuSans-31\"/>\n     </g>\n    </g>\n   </g>\n  </g>\n </g>\n <defs>\n  <clipPath id=\"pa7d3ddefb3\">\n   <rect height=\"135.9\" width=\"251.1\" x=\"43.78125\" y=\"10.7\"/>\n  </clipPath>\n </defs>\n</svg>\n"
     },
     "metadata": {
      "needs_background": "light"
     },
     "output_type": "display_data"
    }
   ],
   "source": [
    "x = np.arange(-7, 7 , 0.01)\n",
    "params = [(0,1), (0,2), (3,1)]\n",
    "\n",
    "d2l.plot(x,[normal(x,mu,sigma) for mu,sigma in params] ,xlabel='x', ylabel='p(x)', figsize=(4.5, 2.5), legend=[f'mean {mu}, std{sigma}' for mu, sigma in params])"
   ],
   "metadata": {
    "collapsed": false,
    "pycharm": {
     "name": "#%%\n"
    }
   }
  }
 ],
 "metadata": {
  "kernelspec": {
   "display_name": "Python 3",
   "language": "python",
   "name": "python3"
  },
  "language_info": {
   "codemirror_mode": {
    "name": "ipython",
    "version": 2
   },
   "file_extension": ".py",
   "mimetype": "text/x-python",
   "name": "python",
   "nbconvert_exporter": "python",
   "pygments_lexer": "ipython2",
   "version": "2.7.6"
  }
 },
 "nbformat": 4,
 "nbformat_minor": 0
}