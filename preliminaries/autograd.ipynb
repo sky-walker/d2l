{
 "cells": [
  {
   "cell_type": "code",
   "execution_count": 1,
   "metadata": {
    "collapsed": true
   },
   "outputs": [],
   "source": [
    "import torch"
   ]
  },
  {
   "cell_type": "code",
   "execution_count": 2,
   "outputs": [
    {
     "name": "stdout",
     "output_type": "stream",
     "text": [
      "tensor([0., 1., 2., 3.])\n",
      "None\n",
      "tensor(28., grad_fn=<MulBackward0>)\n",
      "tensor([ 0.,  4.,  8., 12.])\n",
      "tensor([True, True, True, True])\n",
      "tensor(6., grad_fn=<SumBackward0>)\n",
      "tensor([1., 1., 1., 1.])\n"
     ]
    }
   ],
   "source": [
    "'''\n",
    "当y是标量时,y关于向量x的导数 是一个向量 大小和x相同\n",
    "'''\n",
    "\n",
    "#创建向量变量x并初始化\n",
    "x = torch.arange(4.0)\n",
    "print(x)\n",
    "\n",
    "x.requires_grad_(True)  # 等价于 `x = torch.arange(4.0, requires_grad=True)`\n",
    "print(x.grad)   # 默认值是None\n",
    "\n",
    "#2 * x.T * x\n",
    "#此时y是标量\n",
    "y = 2 * torch.dot(x, x)\n",
    "print(y)\n",
    "\n",
    "y.backward()\n",
    "print(x.grad)\n",
    "\n",
    "print(x.grad == 4*x)\n",
    "\n",
    "#在默认情况下，PyTorch会累积梯度，我们需要清除之前的值\n",
    "x.grad.zero_()\n",
    "y = x.sum()\n",
    "print(y)\n",
    "y.backward()\n",
    "print(x.grad)"
   ],
   "metadata": {
    "collapsed": false,
    "pycharm": {
     "name": "#%%\n"
    }
   }
  },
  {
   "cell_type": "code",
   "execution_count": 7,
   "outputs": [
    {
     "name": "stdout",
     "output_type": "stream",
     "text": [
      "tensor([0., 1., 2., 3.], requires_grad=True)\n",
      "tensor([0., 1., 4., 9.], grad_fn=<MulBackward0>)\n",
      "tensor(14., grad_fn=<SumBackward0>)\n"
     ]
    },
    {
     "data": {
      "text/plain": "tensor([0., 2., 4., 6.])"
     },
     "execution_count": 7,
     "metadata": {},
     "output_type": "execute_result"
    }
   ],
   "source": [
    "'''\n",
    "当y是向量时,y关于向量x的导数是一个矩阵\n",
    "高阶的y和高阶的x 求导的结果是一个高阶的张量\n",
    "'''\n",
    "x.grad.zero_()\n",
    "print(x)\n",
    "y = x * x\n",
    "print(y)\n",
    "print(y.sum())\n",
    "y.backward(gradient=torch.ones(len(x)))\n",
    "x.grad\n"
   ],
   "metadata": {
    "collapsed": false,
    "pycharm": {
     "name": "#%%\n"
    }
   }
  },
  {
   "cell_type": "code",
   "execution_count": 13,
   "outputs": [
    {
     "name": "stdout",
     "output_type": "stream",
     "text": [
      "tensor([0., 1., 2., 3.], requires_grad=True)\n",
      "tensor([0., 1., 4., 9.], grad_fn=<MulBackward0>)\n",
      "tensor([0., 1., 4., 9.])\n",
      "tensor([ 0.,  1.,  8., 27.], grad_fn=<MulBackward0>)\n",
      "tensor([0., 1., 4., 9.])\n",
      "tensor([True, True, True, True])\n"
     ]
    },
    {
     "data": {
      "text/plain": "tensor([True, True, True, True])"
     },
     "execution_count": 13,
     "metadata": {},
     "output_type": "execute_result"
    }
   ],
   "source": [
    "'''分离计算'''\n",
    "\n",
    "x.grad.zero_()\n",
    "print(x)\n",
    "y =  x * x\n",
    "print(y)\n",
    "u = y.detach()\n",
    "print(u)\n",
    "\n",
    "z = u * x\n",
    "print(z)\n",
    "z.sum().backward()\n",
    "print(x.grad)\n",
    "print(x.grad==u)\n",
    "\n",
    "x.grad.zero_()\n",
    "y.sum().backward()\n",
    "x.grad == 2 * x"
   ],
   "metadata": {
    "collapsed": false,
    "pycharm": {
     "name": "#%%\n"
    }
   }
  },
  {
   "cell_type": "code",
   "execution_count": 18,
   "outputs": [
    {
     "name": "stdout",
     "output_type": "stream",
     "text": [
      "tensor(-0.0662, requires_grad=True)\n",
      "tensor(1638400.)\n",
      "tensor(True)\n"
     ]
    }
   ],
   "source": [
    "'''基于python控制流的梯度计算'''\n",
    "\n",
    "def f(a):\n",
    "    b = a * 2\n",
    "    t = b.norm()\n",
    "    while b.norm() < 1000:\n",
    "        b = b * 2\n",
    "    if b.sum() > 0:\n",
    "        c = b\n",
    "    else:\n",
    "        c = 100 * b\n",
    "    return c\n",
    "\n",
    "a = torch.randn(size=(), requires_grad=True)\n",
    "print(a)\n",
    "d = f(a)\n",
    "d.backward()\n",
    "print(a.grad)\n",
    "print(a.grad == d / a)"
   ],
   "metadata": {
    "collapsed": false,
    "pycharm": {
     "name": "#%%\n"
    }
   }
  }
 ],
 "metadata": {
  "kernelspec": {
   "display_name": "Python 3",
   "language": "python",
   "name": "python3"
  },
  "language_info": {
   "codemirror_mode": {
    "name": "ipython",
    "version": 2
   },
   "file_extension": ".py",
   "mimetype": "text/x-python",
   "name": "python",
   "nbconvert_exporter": "python",
   "pygments_lexer": "ipython2",
   "version": "2.7.6"
  }
 },
 "nbformat": 4,
 "nbformat_minor": 0
}